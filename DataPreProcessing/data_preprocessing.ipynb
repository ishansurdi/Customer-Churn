{
 "cells": [
  {
   "cell_type": "markdown",
   "id": "6ac88e31-2fa4-48c4-a0d9-406bbab0c021",
   "metadata": {},
   "source": [
    "# Data Pre-Processing "
   ]
  },
  {
   "cell_type": "code",
   "execution_count": 30,
   "id": "f1d9db68-740e-436d-b4c1-8b193c851131",
   "metadata": {},
   "outputs": [],
   "source": [
    "import pandas as pd\n",
    "import matplotlib.pyplot as plt\n",
    "import seaborn as sns\n",
    "from sklearn.preprocessing import LabelEncoder\n",
    "from sklearn.preprocessing import StandardScaler"
   ]
  },
  {
   "cell_type": "code",
   "execution_count": 4,
   "id": "8dd3b527-8ad3-4dda-b895-33ee6f83ba64",
   "metadata": {},
   "outputs": [
    {
     "data": {
      "text/html": [
       "<div>\n",
       "<style scoped>\n",
       "    .dataframe tbody tr th:only-of-type {\n",
       "        vertical-align: middle;\n",
       "    }\n",
       "\n",
       "    .dataframe tbody tr th {\n",
       "        vertical-align: top;\n",
       "    }\n",
       "\n",
       "    .dataframe thead th {\n",
       "        text-align: right;\n",
       "    }\n",
       "</style>\n",
       "<table border=\"1\" class=\"dataframe\">\n",
       "  <thead>\n",
       "    <tr style=\"text-align: right;\">\n",
       "      <th></th>\n",
       "      <th>customerID</th>\n",
       "      <th>gender</th>\n",
       "      <th>SeniorCitizen</th>\n",
       "      <th>Partner</th>\n",
       "      <th>Dependents</th>\n",
       "      <th>tenure</th>\n",
       "      <th>PhoneService</th>\n",
       "      <th>MultipleLines</th>\n",
       "      <th>InternetService</th>\n",
       "      <th>OnlineSecurity</th>\n",
       "      <th>...</th>\n",
       "      <th>DeviceProtection</th>\n",
       "      <th>TechSupport</th>\n",
       "      <th>StreamingTV</th>\n",
       "      <th>StreamingMovies</th>\n",
       "      <th>Contract</th>\n",
       "      <th>PaperlessBilling</th>\n",
       "      <th>PaymentMethod</th>\n",
       "      <th>MonthlyCharges</th>\n",
       "      <th>TotalCharges</th>\n",
       "      <th>Churn</th>\n",
       "    </tr>\n",
       "  </thead>\n",
       "  <tbody>\n",
       "    <tr>\n",
       "      <th>0</th>\n",
       "      <td>7590-VHVEG</td>\n",
       "      <td>Female</td>\n",
       "      <td>0</td>\n",
       "      <td>Yes</td>\n",
       "      <td>No</td>\n",
       "      <td>1</td>\n",
       "      <td>No</td>\n",
       "      <td>No phone service</td>\n",
       "      <td>DSL</td>\n",
       "      <td>No</td>\n",
       "      <td>...</td>\n",
       "      <td>No</td>\n",
       "      <td>No</td>\n",
       "      <td>No</td>\n",
       "      <td>No</td>\n",
       "      <td>Month-to-month</td>\n",
       "      <td>Yes</td>\n",
       "      <td>Electronic check</td>\n",
       "      <td>29.85</td>\n",
       "      <td>29.85</td>\n",
       "      <td>No</td>\n",
       "    </tr>\n",
       "    <tr>\n",
       "      <th>1</th>\n",
       "      <td>5575-GNVDE</td>\n",
       "      <td>Male</td>\n",
       "      <td>0</td>\n",
       "      <td>No</td>\n",
       "      <td>No</td>\n",
       "      <td>34</td>\n",
       "      <td>Yes</td>\n",
       "      <td>No</td>\n",
       "      <td>DSL</td>\n",
       "      <td>Yes</td>\n",
       "      <td>...</td>\n",
       "      <td>Yes</td>\n",
       "      <td>No</td>\n",
       "      <td>No</td>\n",
       "      <td>No</td>\n",
       "      <td>One year</td>\n",
       "      <td>No</td>\n",
       "      <td>Mailed check</td>\n",
       "      <td>56.95</td>\n",
       "      <td>1889.5</td>\n",
       "      <td>No</td>\n",
       "    </tr>\n",
       "    <tr>\n",
       "      <th>2</th>\n",
       "      <td>3668-QPYBK</td>\n",
       "      <td>Male</td>\n",
       "      <td>0</td>\n",
       "      <td>No</td>\n",
       "      <td>No</td>\n",
       "      <td>2</td>\n",
       "      <td>Yes</td>\n",
       "      <td>No</td>\n",
       "      <td>DSL</td>\n",
       "      <td>Yes</td>\n",
       "      <td>...</td>\n",
       "      <td>No</td>\n",
       "      <td>No</td>\n",
       "      <td>No</td>\n",
       "      <td>No</td>\n",
       "      <td>Month-to-month</td>\n",
       "      <td>Yes</td>\n",
       "      <td>Mailed check</td>\n",
       "      <td>53.85</td>\n",
       "      <td>108.15</td>\n",
       "      <td>Yes</td>\n",
       "    </tr>\n",
       "    <tr>\n",
       "      <th>3</th>\n",
       "      <td>7795-CFOCW</td>\n",
       "      <td>Male</td>\n",
       "      <td>0</td>\n",
       "      <td>No</td>\n",
       "      <td>No</td>\n",
       "      <td>45</td>\n",
       "      <td>No</td>\n",
       "      <td>No phone service</td>\n",
       "      <td>DSL</td>\n",
       "      <td>Yes</td>\n",
       "      <td>...</td>\n",
       "      <td>Yes</td>\n",
       "      <td>Yes</td>\n",
       "      <td>No</td>\n",
       "      <td>No</td>\n",
       "      <td>One year</td>\n",
       "      <td>No</td>\n",
       "      <td>Bank transfer (automatic)</td>\n",
       "      <td>42.30</td>\n",
       "      <td>1840.75</td>\n",
       "      <td>No</td>\n",
       "    </tr>\n",
       "    <tr>\n",
       "      <th>4</th>\n",
       "      <td>9237-HQITU</td>\n",
       "      <td>Female</td>\n",
       "      <td>0</td>\n",
       "      <td>No</td>\n",
       "      <td>No</td>\n",
       "      <td>2</td>\n",
       "      <td>Yes</td>\n",
       "      <td>No</td>\n",
       "      <td>Fiber optic</td>\n",
       "      <td>No</td>\n",
       "      <td>...</td>\n",
       "      <td>No</td>\n",
       "      <td>No</td>\n",
       "      <td>No</td>\n",
       "      <td>No</td>\n",
       "      <td>Month-to-month</td>\n",
       "      <td>Yes</td>\n",
       "      <td>Electronic check</td>\n",
       "      <td>70.70</td>\n",
       "      <td>151.65</td>\n",
       "      <td>Yes</td>\n",
       "    </tr>\n",
       "  </tbody>\n",
       "</table>\n",
       "<p>5 rows × 21 columns</p>\n",
       "</div>"
      ],
      "text/plain": [
       "   customerID  gender  SeniorCitizen Partner Dependents  tenure PhoneService  \\\n",
       "0  7590-VHVEG  Female              0     Yes         No       1           No   \n",
       "1  5575-GNVDE    Male              0      No         No      34          Yes   \n",
       "2  3668-QPYBK    Male              0      No         No       2          Yes   \n",
       "3  7795-CFOCW    Male              0      No         No      45           No   \n",
       "4  9237-HQITU  Female              0      No         No       2          Yes   \n",
       "\n",
       "      MultipleLines InternetService OnlineSecurity  ... DeviceProtection  \\\n",
       "0  No phone service             DSL             No  ...               No   \n",
       "1                No             DSL            Yes  ...              Yes   \n",
       "2                No             DSL            Yes  ...               No   \n",
       "3  No phone service             DSL            Yes  ...              Yes   \n",
       "4                No     Fiber optic             No  ...               No   \n",
       "\n",
       "  TechSupport StreamingTV StreamingMovies        Contract PaperlessBilling  \\\n",
       "0          No          No              No  Month-to-month              Yes   \n",
       "1          No          No              No        One year               No   \n",
       "2          No          No              No  Month-to-month              Yes   \n",
       "3         Yes          No              No        One year               No   \n",
       "4          No          No              No  Month-to-month              Yes   \n",
       "\n",
       "               PaymentMethod MonthlyCharges  TotalCharges Churn  \n",
       "0           Electronic check          29.85         29.85    No  \n",
       "1               Mailed check          56.95        1889.5    No  \n",
       "2               Mailed check          53.85        108.15   Yes  \n",
       "3  Bank transfer (automatic)          42.30       1840.75    No  \n",
       "4           Electronic check          70.70        151.65   Yes  \n",
       "\n",
       "[5 rows x 21 columns]"
      ]
     },
     "execution_count": 4,
     "metadata": {},
     "output_type": "execute_result"
    }
   ],
   "source": [
    "#loading the dataset\n",
    "df = pd.read_csv(\"Telco-Customer-Churn.csv\")\n",
    "df.head()"
   ]
  },
  {
   "cell_type": "code",
   "execution_count": 6,
   "id": "f439926b-5435-4975-9547-9b1b8d3c5f63",
   "metadata": {},
   "outputs": [
    {
     "data": {
      "text/plain": [
       "(7043, 21)"
      ]
     },
     "execution_count": 6,
     "metadata": {},
     "output_type": "execute_result"
    }
   ],
   "source": [
    "# the dimensions of data set\n",
    "df.shape"
   ]
  },
  {
   "cell_type": "markdown",
   "id": "88af56e7-479a-44ea-8eee-22480dc4dd6c",
   "metadata": {},
   "source": [
    "### Checking for Missing Value"
   ]
  },
  {
   "cell_type": "code",
   "execution_count": 7,
   "id": "0e14071b-54d8-4be5-b17c-bd912ba0a864",
   "metadata": {},
   "outputs": [
    {
     "name": "stdout",
     "output_type": "stream",
     "text": [
      "<class 'pandas.core.frame.DataFrame'>\n",
      "RangeIndex: 7043 entries, 0 to 7042\n",
      "Data columns (total 21 columns):\n",
      " #   Column            Non-Null Count  Dtype  \n",
      "---  ------            --------------  -----  \n",
      " 0   customerID        7043 non-null   object \n",
      " 1   gender            7043 non-null   object \n",
      " 2   SeniorCitizen     7043 non-null   int64  \n",
      " 3   Partner           7043 non-null   object \n",
      " 4   Dependents        7043 non-null   object \n",
      " 5   tenure            7043 non-null   int64  \n",
      " 6   PhoneService      7043 non-null   object \n",
      " 7   MultipleLines     7043 non-null   object \n",
      " 8   InternetService   7043 non-null   object \n",
      " 9   OnlineSecurity    7043 non-null   object \n",
      " 10  OnlineBackup      7043 non-null   object \n",
      " 11  DeviceProtection  7043 non-null   object \n",
      " 12  TechSupport       7043 non-null   object \n",
      " 13  StreamingTV       7043 non-null   object \n",
      " 14  StreamingMovies   7043 non-null   object \n",
      " 15  Contract          7043 non-null   object \n",
      " 16  PaperlessBilling  7043 non-null   object \n",
      " 17  PaymentMethod     7043 non-null   object \n",
      " 18  MonthlyCharges    7043 non-null   float64\n",
      " 19  TotalCharges      7043 non-null   object \n",
      " 20  Churn             7043 non-null   object \n",
      "dtypes: float64(1), int64(2), object(18)\n",
      "memory usage: 1.1+ MB\n"
     ]
    }
   ],
   "source": [
    "# Display the shape of the dataset\n",
    "df.info()"
   ]
  },
  {
   "cell_type": "code",
   "execution_count": 8,
   "id": "8107fc02-0b5e-4de8-9547-ab45ffb5a426",
   "metadata": {},
   "outputs": [],
   "source": [
    "# Confirm 'TotalCharges' is numeric\n",
    "df['TotalCharges'] = pd.to_numeric(df['TotalCharges'], errors='coerce')\n",
    "\n"
   ]
  },
  {
   "cell_type": "code",
   "execution_count": 9,
   "id": "eb5f5b06-d8e4-4b73-a952-6a77ede434cf",
   "metadata": {},
   "outputs": [
    {
     "data": {
      "text/plain": [
       "dtype('float64')"
      ]
     },
     "execution_count": 9,
     "metadata": {},
     "output_type": "execute_result"
    }
   ],
   "source": [
    "#checking if datatype is converted\n",
    "df['TotalCharges'].dtypes\n"
   ]
  },
  {
   "cell_type": "code",
   "execution_count": 17,
   "id": "0ffaf065-339a-428e-b346-a7b07a6b222e",
   "metadata": {},
   "outputs": [],
   "source": [
    "#filling the values with imputation\n",
    "df['TotalCharges'] = pd.to_numeric(df['TotalCharges'], errors='coerce')\n",
    "df['TotalCharges'] = df['TotalCharges'].fillna(df['TotalCharges'].median())\n",
    "\n"
   ]
  },
  {
   "cell_type": "code",
   "execution_count": 18,
   "id": "98cfde8e-84f7-4ce9-8d11-92a002a63eb4",
   "metadata": {},
   "outputs": [
    {
     "name": "stdout",
     "output_type": "stream",
     "text": [
      "Data types after conversion:\n",
      "customerID           object\n",
      "gender               object\n",
      "SeniorCitizen         int64\n",
      "Partner              object\n",
      "Dependents           object\n",
      "tenure                int64\n",
      "PhoneService         object\n",
      "MultipleLines        object\n",
      "InternetService      object\n",
      "OnlineSecurity       object\n",
      "OnlineBackup         object\n",
      "DeviceProtection     object\n",
      "TechSupport          object\n",
      "StreamingTV          object\n",
      "StreamingMovies      object\n",
      "Contract             object\n",
      "PaperlessBilling     object\n",
      "PaymentMethod        object\n",
      "MonthlyCharges      float64\n",
      "TotalCharges        float64\n",
      "Churn                object\n",
      "dtype: object\n"
     ]
    }
   ],
   "source": [
    "# Display data types to ensure correctness\n",
    "print(\"Data types after conversion:\")\n",
    "print(df.dtypes)"
   ]
  },
  {
   "cell_type": "markdown",
   "id": "f4c8ce5f-b437-448c-98e7-db5933008dfa",
   "metadata": {},
   "source": [
    "## Outlier Detection"
   ]
  },
  {
   "cell_type": "code",
   "execution_count": 34,
   "id": "311bbe78-d730-4269-894d-6a63f167c52b",
   "metadata": {},
   "outputs": [
    {
     "data": {
      "image/png": "[encoded data removed]",
      "text/plain": [
       "<Figure size 640x480 with 3 Axes>"
      ]
     },
     "metadata": {},
     "output_type": "display_data"
    },
    {
     "name": "stdout",
     "output_type": "stream",
     "text": [
      "tenure outliers count: 0\n",
      "MonthlyCharges outliers count: 0\n",
      "TotalCharges outliers count: 0\n"
     ]
    }
   ],
   "source": [
    "# Outlier Detection through BoxPlot\n",
    "\n",
    "# columns = ['SeniorCitizen', 'tenure', 'MonthlyCharges']\n",
    "columns = ['tenure', 'MonthlyCharges', 'TotalCharges']\n",
    "\n",
    "# Plot boxplots\n",
    "\n",
    "for i, col in enumerate(columns, 1):\n",
    "    plt.subplot(1, 3, i)\n",
    "    sns.boxplot(y=df[col])\n",
    "    plt.title(f'Boxplot of {col}')\n",
    "\n",
    "plt.tight_layout()\n",
    "plt.show()\n",
    "\n",
    "# Detect outliers using IQR method\n",
    "for col in columns:\n",
    "    Q1 = df[col].quantile(0.25)\n",
    "    Q3 = df[col].quantile(0.75)\n",
    "    IQR = Q3 - Q1\n",
    "    lower_bound = Q1 - 1.5 * IQR\n",
    "    upper_bound = Q3 + 1.5 * IQR\n",
    "    outliers = df[(df[col] < lower_bound) | (df[col] > upper_bound)]\n",
    "    print(f\"{col} outliers count: {outliers.shape[0]}\")\n"
   ]
  },
  {
   "cell_type": "code",
   "execution_count": null,
   "id": "fe81fc9c-15a7-43ab-b24f-777a6fe04e58",
   "metadata": {},
   "outputs": [],
   "source": []
  },
  {
   "cell_type": "markdown",
   "id": "02b8ab18-3c25-4292-9ecc-26c1a2b4465e",
   "metadata": {},
   "source": [
    "# Encode Categorical Variables"
   ]
  },
  {
   "cell_type": "code",
   "execution_count": 21,
   "id": "1fcdfba9-9c46-425e-974b-f0c874af15bf",
   "metadata": {},
   "outputs": [],
   "source": [
    "# Encode categorical variables\n",
    "label_encoders = {}\n",
    "categorical_cols = ['gender', 'Partner', 'Dependents', 'PhoneService', 'MultipleLines', \n",
    "                       'InternetService', 'OnlineSecurity', 'OnlineBackup', 'DeviceProtection', \n",
    "                       'TechSupport', 'StreamingTV', 'StreamingMovies', 'Contract', \n",
    "                       'PaperlessBilling', 'PaymentMethod', 'Churn']\n",
    "for cols in categorical_cols :\n",
    "    le = LabelEncoder()\n",
    "    df[cols] = le.fit_transform(df[cols])\n",
    "    label_encoders[cols] = le"
   ]
  },
  {
   "cell_type": "code",
   "execution_count": 22,
   "id": "3db4a5cb-f1a1-44c3-8220-c44628998879",
   "metadata": {},
   "outputs": [
    {
     "name": "stdout",
     "output_type": "stream",
     "text": [
      "Dataset after label encoding:\n",
      "      customerID  gender  SeniorCitizen  Partner  Dependents  tenure  \\\n",
      "0     7590-VHVEG       0              0        1           0       1   \n",
      "1     5575-GNVDE       1              0        0           0      34   \n",
      "2     3668-QPYBK       1              0        0           0       2   \n",
      "3     7795-CFOCW       1              0        0           0      45   \n",
      "4     9237-HQITU       0              0        0           0       2   \n",
      "...          ...     ...            ...      ...         ...     ...   \n",
      "7038  6840-RESVB       1              0        1           1      24   \n",
      "7039  2234-XADUH       0              0        1           1      72   \n",
      "7040  4801-JZAZL       0              0        1           1      11   \n",
      "7041  8361-LTMKD       1              1        1           0       4   \n",
      "7042  3186-AJIEK       1              0        0           0      66   \n",
      "\n",
      "      PhoneService  MultipleLines  InternetService  OnlineSecurity  ...  \\\n",
      "0                0              1                0               0  ...   \n",
      "1                1              0                0               2  ...   \n",
      "2                1              0                0               2  ...   \n",
      "3                0              1                0               2  ...   \n",
      "4                1              0                1               0  ...   \n",
      "...            ...            ...              ...             ...  ...   \n",
      "7038             1              2                0               2  ...   \n",
      "7039             1              2                1               0  ...   \n",
      "7040             0              1                0               2  ...   \n",
      "7041             1              2                1               0  ...   \n",
      "7042             1              0                1               2  ...   \n",
      "\n",
      "      DeviceProtection  TechSupport  StreamingTV  StreamingMovies  Contract  \\\n",
      "0                    0            0            0                0         0   \n",
      "1                    2            0            0                0         1   \n",
      "2                    0            0            0                0         0   \n",
      "3                    2            2            0                0         1   \n",
      "4                    0            0            0                0         0   \n",
      "...                ...          ...          ...              ...       ...   \n",
      "7038                 2            2            2                2         1   \n",
      "7039                 2            0            2                2         1   \n",
      "7040                 0            0            0                0         0   \n",
      "7041                 0            0            0                0         0   \n",
      "7042                 2            2            2                2         2   \n",
      "\n",
      "      PaperlessBilling  PaymentMethod  MonthlyCharges  TotalCharges  Churn  \n",
      "0                    1              2           29.85         29.85      0  \n",
      "1                    0              3           56.95       1889.50      0  \n",
      "2                    1              3           53.85        108.15      1  \n",
      "3                    0              0           42.30       1840.75      0  \n",
      "4                    1              2           70.70        151.65      1  \n",
      "...                ...            ...             ...           ...    ...  \n",
      "7038                 1              3           84.80       1990.50      0  \n",
      "7039                 1              1          103.20       7362.90      0  \n",
      "7040                 1              2           29.60        346.45      0  \n",
      "7041                 1              3           74.40        306.60      1  \n",
      "7042                 1              0          105.65       6844.50      0  \n",
      "\n",
      "[7043 rows x 21 columns]\n"
     ]
    }
   ],
   "source": [
    "print(\"Dataset after label encoding:\")\n",
    "print(df)"
   ]
  },
  {
   "cell_type": "code",
   "execution_count": 35,
   "id": "94cbc4c6-caf6-43cc-9af8-f70ed1e6c7ec",
   "metadata": {},
   "outputs": [],
   "source": [
    "# Standardize numerical columns\n",
    "numerical_columns = ['tenure', 'MonthlyCharges', 'TotalCharges']\n",
    "scaler = StandardScaler()\n",
    "df[numerical_columns] = scaler.fit_transform(df[numerical_columns])"
   ]
  },
  {
   "cell_type": "markdown",
   "id": "eaff8ed8-0a5c-40c9-a066-6900348d2901",
   "metadata": {},
   "source": [
    "# Save Processed Data"
   ]
  },
  {
   "cell_type": "code",
   "execution_count": 39,
   "id": "7b876033-a82d-42e3-a1bc-23359ec24459",
   "metadata": {},
   "outputs": [
    {
     "name": "stdout",
     "output_type": "stream",
     "text": [
      "\n",
      "Data preprocessing completed and saved to cleaned_Telco-Customer-Churn_data.csv\n"
     ]
    }
   ],
   "source": [
    "# Save the processed data\n",
    "df.to_csv('cleaned_Telco-Customer-Churn_data.csv', index=False)\n",
    "print(\"\\nData preprocessing completed and saved to cleaned_Telco-Customer-Churn_data.csv\")"
   ]
  },
  {
   "cell_type": "code",
   "execution_count": null,
   "id": "97cb0240-ceb3-4f50-8694-ff3bb39161c9",
   "metadata": {},
   "outputs": [],
   "source": []
  }
 ],
 "metadata": {
  "kernelspec": {
   "display_name": "Python [conda env:base] *",
   "language": "python",
   "name": "conda-base-py"
  },
  "language_info": {
   "codemirror_mode": {
    "name": "ipython",
    "version": 3
   },
   "file_extension": ".py",
   "mimetype": "text/x-python",
   "name": "python",
   "nbconvert_exporter": "python",
   "pygments_lexer": "ipython3",
   "version": "3.13.5"
  }
 },
 "nbformat": 4,
 "nbformat_minor": 5
}
